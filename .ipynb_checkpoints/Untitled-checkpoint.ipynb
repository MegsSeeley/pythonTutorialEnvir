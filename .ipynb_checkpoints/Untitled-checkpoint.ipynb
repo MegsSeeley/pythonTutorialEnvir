{
 "cells": [
  {
   "cell_type": "markdown",
   "metadata": {},
   "source": [
    "# Acquiring Data via Python API"
   ]
  },
  {
   "cell_type": "markdown",
   "metadata": {},
   "source": [
    "### What is an API?\n",
    "Application Programming Interface "
   ]
  },
  {
   "cell_type": "code",
   "execution_count": null,
   "metadata": {},
   "outputs": [],
   "source": [
    "import landsatxplore as lx\n",
    "#import sys\n",
    "#!conda install --yes --prefix {sys.prefix} rasterio\n",
    "#import rasterio as rio\n",
    "import numpy\n"
   ]
  },
  {
   "cell_type": "code",
   "execution_count": null,
   "metadata": {},
   "outputs": [],
   "source": [
    "# Sign in to Earth Engine Explorer\n",
    "api = lx.API(\"megs_landsat\", \"tryagain8\")\n",
    "#api = lx.API(\"username\", \"password\")"
   ]
  },
  {
   "cell_type": "code",
   "execution_count": null,
   "metadata": {},
   "outputs": [],
   "source": [
    "# Scene search\n",
    "scenes = api.search(\n",
    "    dataset = 'LANDSAT_8_C1',\n",
    "    latitude = 40.047875,\n",
    "    longitude = -6.884606,\n",
    "    start_date = '2018-01-01',\n",
    "    end_date = '2018-11-01',\n",
    "    max_cloud_cover = 20\n",
    ")\n",
    "\n",
    "print('{} scenes founds.'.format(len(scenes)))\n",
    "\n",
    "for scene in scenes:\n",
    "    print (scene['acquisitionDate'])"
   ]
  },
  {
   "cell_type": "code",
   "execution_count": null,
   "metadata": {},
   "outputs": [],
   "source": [
    "fig, ax = plt.subplots()\n",
    "rio.plot.show(scenes[0],\n",
    "             title = \"LiDAR DEM \\n Boulder Flood 2013\",\n",
    "             ax = ax)\n",
    "ax.set_axis_off()"
   ]
  },
  {
   "cell_type": "code",
   "execution_count": null,
   "metadata": {},
   "outputs": [],
   "source": []
  }
 ],
 "metadata": {
  "kernelspec": {
   "display_name": "Python 3",
   "language": "python",
   "name": "python3"
  },
  "language_info": {
   "codemirror_mode": {
    "name": "ipython",
    "version": 3
   },
   "file_extension": ".py",
   "mimetype": "text/x-python",
   "name": "python",
   "nbconvert_exporter": "python",
   "pygments_lexer": "ipython3",
   "version": "3.6.5"
  }
 },
 "nbformat": 4,
 "nbformat_minor": 2
}
